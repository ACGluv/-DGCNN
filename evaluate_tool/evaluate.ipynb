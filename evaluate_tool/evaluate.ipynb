{
 "cells": [
  {
   "cell_type": "code",
   "execution_count": 6,
   "metadata": {},
   "outputs": [
    {
     "ename": "UnicodeDecodeError",
     "evalue": "'gbk' codec can't decode byte 0xa6 in position 107: illegal multibyte sequence",
     "output_type": "error",
     "traceback": [
      "\u001b[1;31m---------------------------------------------------------------------------\u001b[0m",
      "\u001b[1;31mUnicodeDecodeError\u001b[0m                        Traceback (most recent call last)",
      "\u001b[1;32m<ipython-input-6-1bdeab7b18fe>\u001b[0m in \u001b[0;36m<module>\u001b[1;34m\u001b[0m\n\u001b[0;32m      7\u001b[0m \u001b[0msys\u001b[0m\u001b[1;33m.\u001b[0m\u001b[0mpath\u001b[0m\u001b[1;33m.\u001b[0m\u001b[0mappend\u001b[0m\u001b[1;33m(\u001b[0m\u001b[1;34m\"..\"\u001b[0m\u001b[1;33m)\u001b[0m\u001b[1;33m\u001b[0m\u001b[1;33m\u001b[0m\u001b[0m\n\u001b[0;32m      8\u001b[0m \u001b[1;33m\u001b[0m\u001b[0m\n\u001b[1;32m----> 9\u001b[1;33m \u001b[1;32mfrom\u001b[0m \u001b[0mevaluate_tool\u001b[0m\u001b[1;33m.\u001b[0m\u001b[0mstring_tool\u001b[0m \u001b[1;32mimport\u001b[0m \u001b[1;33m*\u001b[0m\u001b[1;33m\u001b[0m\u001b[1;33m\u001b[0m\u001b[0m\n\u001b[0m\u001b[0;32m     10\u001b[0m \u001b[1;33m\u001b[0m\u001b[0m\n\u001b[0;32m     11\u001b[0m \u001b[1;31m#main_path = '/'.join(sys.argv[0].split('/')[:-2])+'/evaluate_tool'\u001b[0m\u001b[1;33m\u001b[0m\u001b[1;33m\u001b[0m\u001b[1;33m\u001b[0m\u001b[0m\n",
      "\u001b[1;32mE:\\nlp\\MRC\\jupyter-radam_dgcnn_for_reading_comprehension\\evaluate_tool\\string_tool.py\u001b[0m in \u001b[0;36m<module>\u001b[1;34m\u001b[0m\n\u001b[0;32m     14\u001b[0m \u001b[1;33m\u001b[0m\u001b[0m\n\u001b[0;32m     15\u001b[0m \u001b[1;32mwith\u001b[0m \u001b[0mopen\u001b[0m\u001b[1;33m(\u001b[0m\u001b[0mmain_path\u001b[0m \u001b[1;33m+\u001b[0m \u001b[1;34m\"punctuation\"\u001b[0m\u001b[1;33m,\u001b[0m \u001b[1;34m\"r\"\u001b[0m\u001b[1;33m)\u001b[0m \u001b[1;32mas\u001b[0m \u001b[0mfile\u001b[0m\u001b[1;33m:\u001b[0m\u001b[1;33m\u001b[0m\u001b[1;33m\u001b[0m\u001b[0m\n\u001b[1;32m---> 16\u001b[1;33m     \u001b[1;32mfor\u001b[0m \u001b[0mline\u001b[0m \u001b[1;32min\u001b[0m \u001b[0mfile\u001b[0m\u001b[1;33m:\u001b[0m\u001b[1;33m\u001b[0m\u001b[1;33m\u001b[0m\u001b[0m\n\u001b[0m\u001b[0;32m     17\u001b[0m         \u001b[0mpunctuation\u001b[0m\u001b[1;33m.\u001b[0m\u001b[0madd\u001b[0m\u001b[1;33m(\u001b[0m\u001b[0mline\u001b[0m\u001b[1;33m.\u001b[0m\u001b[0mstrip\u001b[0m\u001b[1;33m(\u001b[0m\u001b[1;33m)\u001b[0m\u001b[1;33m)\u001b[0m\u001b[1;33m\u001b[0m\u001b[1;33m\u001b[0m\u001b[0m\n\u001b[0;32m     18\u001b[0m \u001b[1;33m\u001b[0m\u001b[0m\n",
      "\u001b[1;31mUnicodeDecodeError\u001b[0m: 'gbk' codec can't decode byte 0xa6 in position 107: illegal multibyte sequence"
     ]
    }
   ],
   "source": [
    "#!/usr/bin/env python\n",
    "# coding:utf8\n",
    "\n",
    "import copy\n",
    "import json\n",
    "import sys\n",
    "sys.path.append(\"..\")\n",
    "\n",
    "from evaluate_tool.string_tool import *\n",
    "\n",
    "#main_path = '/'.join(sys.argv[0].split('/')[:-2])+'/evaluate_tool'\n",
    "main_path = 'E:/nlp/MRC/jupyter-radam_dgcnn_for_reading_comprehension/evaluate_tool'\n",
    "if main_path:\n",
    "    main_path += '/'\n",
    "\n",
    "qid_answer_expand = {}"
   ]
  },
  {
   "cell_type": "code",
   "execution_count": 2,
   "metadata": {},
   "outputs": [],
   "source": [
    "def format_string(string):\n",
    "    string = strQ2B(string)\n",
    "    string = string.lower()\n",
    "    string = drop_punctuation(string)\n",
    "    string = filter_blank(string)\n",
    "    string = string.strip()\n",
    "    return string"
   ]
  },
  {
   "cell_type": "code",
   "execution_count": 3,
   "metadata": {},
   "outputs": [],
   "source": [
    "def load_qid_answer_expand(file_path):\n",
    "    with open(main_path + file_path, \"r\", encoding=\"utf-8\") as file:\n",
    "        for line in file:\n",
    "            if len(line.strip().split(\"\\t\")) != 3:\n",
    "                print(line.strip())\n",
    "            qid, answer, answer_expand = line.strip().split(\"\\t\")\n",
    "            answer_expand = set(answer_expand.split(\"|\"))\n",
    "            tmp_answer_expand = copy.copy(answer_expand)\n",
    "            for element in tmp_answer_expand:\n",
    "                answer_expand.add(format_string(element))\n",
    "            qid_answer_expand[qid] = (answer, answer_expand)"
   ]
  },
  {
   "cell_type": "code",
   "execution_count": 4,
   "metadata": {},
   "outputs": [],
   "source": [
    "def is_exact_match_answer(qid, competitor_answer):\n",
    "    if qid not in qid_answer_expand:\n",
    "        raise ValueError(\"Invalid qid:%s\" % qid)\n",
    "    competitor_answer = competitor_answer.strip()\n",
    "    if competitor_answer == \"\":\n",
    "        return \"0\"\n",
    "    format_competitor_answer = format_string(competitor_answer)\n",
    "    answer, answer_expand = qid_answer_expand[qid]\n",
    "    if format_competitor_answer in answer_expand:\n",
    "        return \"1\"\n",
    "    print(competitor_answer)\n",
    "    a = drop_punctuation(competitor_answer)\n",
    "    a = a.lower()\n",
    "    a = a.split()\n",
    "    print(a)\n",
    "    tmp_set1 = set([format_string(element) for element in a])\n",
    "    tmp_set2 = set([format_string(element) for element in drop_punctuation_two(answer).lower().split()])\n",
    "    if tmp_set1 == tmp_set2:\n",
    "        return \"1\"\n",
    "    return \"0\""
   ]
  },
  {
   "cell_type": "code",
   "execution_count": 5,
   "metadata": {},
   "outputs": [],
   "source": [
    "def cacu_character_level_f(qid, competitor_answer):\n",
    "    if qid not in qid_answer_expand:\n",
    "        raise ValueError(\"Invalid qid:%s\" % qid)\n",
    "    competitor_answer = competitor_answer.strip()\n",
    "    if competitor_answer == \"\":\n",
    "        return 0.0, 0.0, 0.0, None\n",
    "    format_competitor_answer = format_string(competitor_answer)\n",
    "    format_competitor_answer_tokens = split_string(format_competitor_answer)\n",
    "    answer, answer_expand = qid_answer_expand[qid]\n",
    "    max_f = 0.0\n",
    "    max_f_precision = 0.0\n",
    "    max_f_recall = 0.0\n",
    "    max_f_answer = None\n",
    "    for tmp_answer in answer_expand:\n",
    "        tmp_answer_tokens = split_string(format_string(tmp_answer))\n",
    "        tmp_answer_tokens_copy = copy.copy(tmp_answer_tokens)\n",
    "        right_count = 0\n",
    "        for format_competitor_answer_token in format_competitor_answer_tokens:\n",
    "            if format_competitor_answer_token in tmp_answer_tokens_copy:\n",
    "                right_count += 1\n",
    "                tmp_answer_tokens_copy.remove(format_competitor_answer_token)\n",
    "        if right_count == 0:\n",
    "            continue\n",
    "        precision = 1.0 * right_count / len(format_competitor_answer_tokens)\n",
    "        recall = 1.0 * right_count / len(tmp_answer_tokens)\n",
    "        f = 2 * precision * recall / (precision + recall)\n",
    "        if f > max_f:\n",
    "            max_f = f\n",
    "            max_f_precision = precision\n",
    "            max_f_recall = recall\n",
    "            max_f_answer = tmp_answer\n",
    "    return max_f, max_f_precision, max_f_recall, max_f_answer"
   ]
  },
  {
   "cell_type": "code",
   "execution_count": 6,
   "metadata": {},
   "outputs": [],
   "source": [
    "def evaluate(input_file, output_file):\n",
    "    load_qid_answer_expand(\"qid_answer_expand\")\n",
    "    total = 0\n",
    "    right = 0\n",
    "    sum_f = 0.0\n",
    "    # 同时打开两个文件，一个文件读一个文件取\n",
    "    with open(input_file, \"r\") as infile, open(output_file, \"w\") as outfile:\n",
    "        infile = infile.readlines()\n",
    "        print(len(infile))\n",
    "        for line_message in infile:\n",
    "            total += 1\n",
    "            items = line_message.replace(\"\\n\", \"\").split(\"\\t\")\n",
    "            if len(items) != 2:\n",
    "                # raise ValueError(\n",
    "                #     \"Invalid line_message: '%s', which should have 2 fields. The 2 fields are query_id and \"\n",
    "                #     \"competitor_answer\" % line_message.strip())\n",
    "                continue\n",
    "            qid, competitor_answer = items\n",
    "            right_flag = is_exact_match_answer(qid, competitor_answer)\n",
    "            if right_flag == \"1\":\n",
    "                right += 1\n",
    "            max_f, max_f_precision, max_f_recall, max_f_answer = cacu_character_level_f(qid, competitor_answer)\n",
    "            sum_f += max_f\n",
    "            outfile.write(\"%s\\t%s\\t%s\\t%f\\t%f\\t%f\\t%s\\n\" % (\n",
    "                qid, competitor_answer, right_flag, max_f, max_f_precision, max_f_recall, max_f_answer))\n",
    "    print(\"query-level precision=%d/%d=%f\" % (right, total, 1.0 * right / total))\n",
    "    print(\"character-level average f value=%f/%f=%f\" % (sum_f, total, sum_f / total))\n",
    "    return 1.0 * right / total, sum_f / total, (1.0 * right / total + sum_f / total) / 2."
   ]
  },
  {
   "cell_type": "code",
   "execution_count": 7,
   "metadata": {},
   "outputs": [
    {
     "ename": "NameError",
     "evalue": "name 'main_path' is not defined",
     "output_type": "error",
     "traceback": [
      "\u001b[1;31m---------------------------------------------------------------------------\u001b[0m",
      "\u001b[1;31mNameError\u001b[0m                                 Traceback (most recent call last)",
      "\u001b[1;32m<ipython-input-7-d792d78cffc7>\u001b[0m in \u001b[0;36m<module>\u001b[1;34m\u001b[0m\n\u001b[0;32m      1\u001b[0m \u001b[1;32mif\u001b[0m \u001b[0m__name__\u001b[0m \u001b[1;33m==\u001b[0m \u001b[1;34m\"__main__\"\u001b[0m\u001b[1;33m:\u001b[0m\u001b[1;33m\u001b[0m\u001b[1;33m\u001b[0m\u001b[0m\n\u001b[0;32m      2\u001b[0m     \u001b[1;31m# print(json.dumps(evaluate(sys.argv[1], sys.argv[2])))\u001b[0m\u001b[1;33m\u001b[0m\u001b[1;33m\u001b[0m\u001b[1;33m\u001b[0m\u001b[0m\n\u001b[1;32m----> 3\u001b[1;33m     \u001b[0mprint\u001b[0m\u001b[1;33m(\u001b[0m\u001b[0mjson\u001b[0m\u001b[1;33m.\u001b[0m\u001b[0mdumps\u001b[0m\u001b[1;33m(\u001b[0m\u001b[0mevaluate\u001b[0m\u001b[1;33m(\u001b[0m\u001b[1;34m\"../dgcnn/tmp_result.txt\"\u001b[0m\u001b[1;33m,\u001b[0m \u001b[1;34m\"../dgcnn/tmp_output.txt\"\u001b[0m\u001b[1;33m)\u001b[0m\u001b[1;33m)\u001b[0m\u001b[1;33m)\u001b[0m\u001b[1;33m\u001b[0m\u001b[1;33m\u001b[0m\u001b[0m\n\u001b[0m",
      "\u001b[1;32m<ipython-input-6-3765f8fd8d0d>\u001b[0m in \u001b[0;36mevaluate\u001b[1;34m(input_file, output_file)\u001b[0m\n\u001b[0;32m      1\u001b[0m \u001b[1;32mdef\u001b[0m \u001b[0mevaluate\u001b[0m\u001b[1;33m(\u001b[0m\u001b[0minput_file\u001b[0m\u001b[1;33m,\u001b[0m \u001b[0moutput_file\u001b[0m\u001b[1;33m)\u001b[0m\u001b[1;33m:\u001b[0m\u001b[1;33m\u001b[0m\u001b[1;33m\u001b[0m\u001b[0m\n\u001b[1;32m----> 2\u001b[1;33m     \u001b[0mload_qid_answer_expand\u001b[0m\u001b[1;33m(\u001b[0m\u001b[1;34m\"qid_answer_expand\"\u001b[0m\u001b[1;33m)\u001b[0m\u001b[1;33m\u001b[0m\u001b[1;33m\u001b[0m\u001b[0m\n\u001b[0m\u001b[0;32m      3\u001b[0m     \u001b[0mtotal\u001b[0m \u001b[1;33m=\u001b[0m \u001b[1;36m0\u001b[0m\u001b[1;33m\u001b[0m\u001b[1;33m\u001b[0m\u001b[0m\n\u001b[0;32m      4\u001b[0m     \u001b[0mright\u001b[0m \u001b[1;33m=\u001b[0m \u001b[1;36m0\u001b[0m\u001b[1;33m\u001b[0m\u001b[1;33m\u001b[0m\u001b[0m\n\u001b[0;32m      5\u001b[0m     \u001b[0msum_f\u001b[0m \u001b[1;33m=\u001b[0m \u001b[1;36m0.0\u001b[0m\u001b[1;33m\u001b[0m\u001b[1;33m\u001b[0m\u001b[0m\n",
      "\u001b[1;32m<ipython-input-3-62cf187f3dbd>\u001b[0m in \u001b[0;36mload_qid_answer_expand\u001b[1;34m(file_path)\u001b[0m\n\u001b[0;32m      1\u001b[0m \u001b[1;32mdef\u001b[0m \u001b[0mload_qid_answer_expand\u001b[0m\u001b[1;33m(\u001b[0m\u001b[0mfile_path\u001b[0m\u001b[1;33m)\u001b[0m\u001b[1;33m:\u001b[0m\u001b[1;33m\u001b[0m\u001b[1;33m\u001b[0m\u001b[0m\n\u001b[1;32m----> 2\u001b[1;33m     \u001b[1;32mwith\u001b[0m \u001b[0mopen\u001b[0m\u001b[1;33m(\u001b[0m\u001b[0mmain_path\u001b[0m \u001b[1;33m+\u001b[0m \u001b[0mfile_path\u001b[0m\u001b[1;33m,\u001b[0m \u001b[1;34m\"r\"\u001b[0m\u001b[1;33m)\u001b[0m \u001b[1;32mas\u001b[0m \u001b[0mfile\u001b[0m\u001b[1;33m:\u001b[0m\u001b[1;33m\u001b[0m\u001b[1;33m\u001b[0m\u001b[0m\n\u001b[0m\u001b[0;32m      3\u001b[0m         \u001b[1;32mfor\u001b[0m \u001b[0mline\u001b[0m \u001b[1;32min\u001b[0m \u001b[0mfile\u001b[0m\u001b[1;33m:\u001b[0m\u001b[1;33m\u001b[0m\u001b[1;33m\u001b[0m\u001b[0m\n\u001b[0;32m      4\u001b[0m             \u001b[1;32mif\u001b[0m \u001b[0mlen\u001b[0m\u001b[1;33m(\u001b[0m\u001b[0mline\u001b[0m\u001b[1;33m.\u001b[0m\u001b[0mstrip\u001b[0m\u001b[1;33m(\u001b[0m\u001b[1;33m)\u001b[0m\u001b[1;33m.\u001b[0m\u001b[0msplit\u001b[0m\u001b[1;33m(\u001b[0m\u001b[1;34m\"\\t\"\u001b[0m\u001b[1;33m)\u001b[0m\u001b[1;33m)\u001b[0m \u001b[1;33m!=\u001b[0m \u001b[1;36m3\u001b[0m\u001b[1;33m:\u001b[0m\u001b[1;33m\u001b[0m\u001b[1;33m\u001b[0m\u001b[0m\n\u001b[0;32m      5\u001b[0m                 \u001b[0mprint\u001b[0m\u001b[1;33m(\u001b[0m\u001b[0mline\u001b[0m\u001b[1;33m.\u001b[0m\u001b[0mstrip\u001b[0m\u001b[1;33m(\u001b[0m\u001b[1;33m)\u001b[0m\u001b[1;33m)\u001b[0m\u001b[1;33m\u001b[0m\u001b[1;33m\u001b[0m\u001b[0m\n",
      "\u001b[1;31mNameError\u001b[0m: name 'main_path' is not defined"
     ]
    }
   ],
   "source": [
    "if __name__ == \"__main__\":\n",
    "    # print(json.dumps(evaluate(sys.argv[1], sys.argv[2])))\n",
    "    print(json.dumps(evaluate(\"../dgcnn/tmp_result.txt\", \"../dgcnn/tmp_output.txt\")))\n"
   ]
  },
  {
   "cell_type": "code",
   "execution_count": null,
   "metadata": {},
   "outputs": [],
   "source": []
  }
 ],
 "metadata": {
  "kernelspec": {
   "display_name": "Python 3",
   "language": "python",
   "name": "python3"
  },
  "language_info": {
   "codemirror_mode": {
    "name": "ipython",
    "version": 3
   },
   "file_extension": ".py",
   "mimetype": "text/x-python",
   "name": "python",
   "nbconvert_exporter": "python",
   "pygments_lexer": "ipython3",
   "version": "3.6.9"
  }
 },
 "nbformat": 4,
 "nbformat_minor": 2
}
