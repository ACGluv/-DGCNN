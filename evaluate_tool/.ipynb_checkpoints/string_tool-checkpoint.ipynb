{
 "cells": [
  {
   "cell_type": "code",
   "execution_count": 6,
   "metadata": {},
   "outputs": [
    {
     "name": "stdout",
     "output_type": "stream",
     "text": [
      "\n"
     ]
    },
    {
     "ename": "UnicodeDecodeError",
     "evalue": "'gbk' codec can't decode byte 0xa6 in position 107: illegal multibyte sequence",
     "output_type": "error",
     "traceback": [
      "\u001b[1;31m---------------------------------------------------------------------------\u001b[0m",
      "\u001b[1;31mUnicodeDecodeError\u001b[0m                        Traceback (most recent call last)",
      "\u001b[1;32m<ipython-input-6-0558491dbc80>\u001b[0m in \u001b[0;36m<module>\u001b[1;34m\u001b[0m\n\u001b[0;32m     17\u001b[0m \u001b[1;33m\u001b[0m\u001b[0m\n\u001b[0;32m     18\u001b[0m \u001b[1;32mwith\u001b[0m \u001b[0mopen\u001b[0m\u001b[1;33m(\u001b[0m\u001b[0mmain_path\u001b[0m \u001b[1;33m+\u001b[0m \u001b[1;34m\"punctuation\"\u001b[0m\u001b[1;33m,\u001b[0m \u001b[1;34m\"r\"\u001b[0m\u001b[1;33m)\u001b[0m \u001b[1;32mas\u001b[0m \u001b[0mfile\u001b[0m\u001b[1;33m:\u001b[0m\u001b[1;33m\u001b[0m\u001b[1;33m\u001b[0m\u001b[0m\n\u001b[1;32m---> 19\u001b[1;33m     \u001b[1;32mfor\u001b[0m \u001b[0mline\u001b[0m \u001b[1;32min\u001b[0m \u001b[0mfile\u001b[0m\u001b[1;33m:\u001b[0m\u001b[1;33m\u001b[0m\u001b[1;33m\u001b[0m\u001b[0m\n\u001b[0m\u001b[0;32m     20\u001b[0m         \u001b[0mpunctuation\u001b[0m\u001b[1;33m.\u001b[0m\u001b[0madd\u001b[0m\u001b[1;33m(\u001b[0m\u001b[0mline\u001b[0m\u001b[1;33m.\u001b[0m\u001b[0mstrip\u001b[0m\u001b[1;33m(\u001b[0m\u001b[1;33m)\u001b[0m\u001b[1;33m)\u001b[0m\u001b[1;33m\u001b[0m\u001b[1;33m\u001b[0m\u001b[0m\n",
      "\u001b[1;31mUnicodeDecodeError\u001b[0m: 'gbk' codec can't decode byte 0xa6 in position 107: illegal multibyte sequence"
     ]
    }
   ],
   "source": [
    "# coding:utf8\n",
    "\n",
    "import re\n",
    "import sys\n",
    "sys.path.append(\"..\")\n",
    "\n",
    "from six import unichr\n",
    "\n",
    "blank_regexp = re.compile(r'\\s+')\n",
    "punctuation = set()\n",
    "\n",
    "#main_path = '/'.join(sys.argv[0].split('/')[:-2])+'/evaluate_tool'\n",
    "main_path = 'E:/nlp/MRC/jupyter-radam_dgcnn_for_reading_comprehension/evaluate_tool'\n",
    "print('/'.join(sys.argv[0].split('/')[:-2]))\n",
    "if main_path:\n",
    "    main_path += '/'\n",
    "\n",
    "with open(main_path + \"punctuation\", \"r\", encoding=\"utf-8\") as file:\n",
    "    for line in file:\n",
    "        punctuation.add(line.strip())"
   ]
  },
  {
   "cell_type": "code",
   "execution_count": 2,
   "metadata": {},
   "outputs": [],
   "source": [
    "def drop_punctuation(string, codec=\"utf8\"):\n",
    "    # print(string)\n",
    "    \"\"\"删除所有标点符号\"\"\"\n",
    "    if not isinstance(string, str):\n",
    "        ustring = string.decode(codec)\n",
    "    else:\n",
    "        ustring = string\n",
    "    rstring = \"\"\n",
    "    for uchar in ustring:\n",
    "        if uchar not in punctuation:\n",
    "            rstring += uchar\n",
    "        else:\n",
    "            rstring += \" \"\n",
    "    return rstring.encode(codec, 'ignore')"
   ]
  },
  {
   "cell_type": "code",
   "execution_count": 3,
   "metadata": {},
   "outputs": [],
   "source": [
    "def drop_punctuation_two(string: str, codec=\"utf8\"):\n",
    "    \"\"\"删除所有标点符号\"\"\"\n",
    "    rstring = \"\"\n",
    "    for uchar in string:\n",
    "        if uchar not in punctuation:\n",
    "            rstring += str(uchar)\n",
    "        else:\n",
    "            rstring += \" \"\n",
    "    return rstring.encode(codec, 'ignore')"
   ]
  },
  {
   "cell_type": "code",
   "execution_count": 4,
   "metadata": {},
   "outputs": [],
   "source": [
    "def split_string(string, codec=\"utf8\"):\n",
    "    split_tokens = []\n",
    "    # ustring = string.decode(codec, \"ignore\")\n",
    "    for uchar in string:\n",
    "        split_tokens.append(uchar.encode(codec, \"ignore\"))\n",
    "    return split_tokens"
   ]
  },
  {
   "cell_type": "code",
   "execution_count": 5,
   "metadata": {},
   "outputs": [],
   "source": [
    "def strQ2B(string, codec=\"utf8\"):\n",
    "    \"\"\"全角转半角\"\"\"\n",
    "    rstring = \"\"\n",
    "    for uchar in string:\n",
    "        if isinstance(uchar, str):\n",
    "            inside_code = ord(uchar)\n",
    "            if inside_code == 12288:  # 全角空格直接转换\n",
    "                inside_code = 32\n",
    "            elif 65281 <= inside_code <= 65374:  # 全角字符（除空格）根据关系转化\n",
    "                inside_code -= 65248\n",
    "\n",
    "            rstring += unichr(inside_code)\n",
    "        return rstring.encode(codec, \"ignore\")\n",
    "    else:\n",
    "        return string"
   ]
  },
  {
   "cell_type": "code",
   "execution_count": 6,
   "metadata": {},
   "outputs": [],
   "source": [
    "def strB2Q(string, codec=\"utf8\"):\n",
    "    \"\"\"半角转全角\"\"\"\n",
    "    ustring = string.decode(codec, \"ignore\")\n",
    "    rstring = \"\"\n",
    "    for uchar in ustring:\n",
    "        inside_code = ord(uchar)\n",
    "        if inside_code == 32:  # 半角空格直接转化\n",
    "            inside_code = 12288\n",
    "        elif 32 <= inside_code <= 126:  # 半角字符（除空格）根据关系转化\n",
    "            inside_code += 65248\n",
    "\n",
    "        rstring += unichr(inside_code)\n",
    "    return rstring"
   ]
  },
  {
   "cell_type": "code",
   "execution_count": 7,
   "metadata": {},
   "outputs": [],
   "source": [
    "def filter_blank(string):\n",
    "    string = string.decode(\"utf-8\")\n",
    "    return blank_regexp.sub('', string)"
   ]
  },
  {
   "cell_type": "code",
   "execution_count": 8,
   "metadata": {},
   "outputs": [],
   "source": [
    "def filter_extra_blank(string):\n",
    "    string = string.decode(\"utf-8\")\n",
    "    return blank_regexp.sub(' ', string)\n",
    "# 不能在类字节码对象上使用字符串模式"
   ]
  },
  {
   "cell_type": "code",
   "execution_count": null,
   "metadata": {},
   "outputs": [],
   "source": []
  }
 ],
 "metadata": {
  "kernelspec": {
   "display_name": "Python 3",
   "language": "python",
   "name": "python3"
  },
  "language_info": {
   "codemirror_mode": {
    "name": "ipython",
    "version": 3
   },
   "file_extension": ".py",
   "mimetype": "text/x-python",
   "name": "python",
   "nbconvert_exporter": "python",
   "pygments_lexer": "ipython3",
   "version": "3.6.9"
  }
 },
 "nbformat": 4,
 "nbformat_minor": 2
}
